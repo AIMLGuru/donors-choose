{
 "cells": [
  {
   "cell_type": "markdown",
   "metadata": {},
   "source": [
    "## Assignment : 14"
   ]
  },
  {
   "cell_type": "markdown",
   "metadata": {},
   "source": [
    "<pre>\n",
    "1. You can work with preprocessed_data.csv for the assignment. You can get the data from - <a href='https://drive.google.com/drive/u/0/folders/1CJnItndeSSJu7aragQoXWZS9-0apN6pp'>Data folder </a>\n",
    "2. Load the data in your notebook.\n",
    "3. After step 2 you have to train 3 types of models as discussed below. \n",
    "4. For all the model use <a href='https://scikit-learn.org/stable/modules/model_evaluation.html#roc-metrics'>'auc'</a> as a metric. check <a  href='https://stackoverflow.com/a/46844409'>this</a> and <a  href='https://www.kaggle.com/c/santander-customer-transaction-prediction/discussion/80807'>this</a> for using auc as a metric \n",
    "5. You are free to choose any number of layers/hiddden units but you have to use same type of architectures shown below. \n",
    "6. You can use any one of the optimizers and choice of Learning rate and momentum.\n",
    "7. For all the model's use <a href='https://www.youtube.com/watch?v=2U6Jl7oqRkM'>TensorBoard</a> and plot the Metric value and Loss with epoch. While submitting, take a screenshot of plots and include those images in a separate pad and write your observations about them.\n",
    "8. Make sure that you are using GPU to train the given models.\n",
    "</pre>"
   ]
  },
  {
   "cell_type": "code",
   "execution_count": 1,
   "metadata": {},
   "outputs": [],
   "source": [
    "#you can use gdown modules to import dataset for the assignment\n",
    "#for importing any file from drive to Colab you can write the syntax as !gdown --id file_id\n",
    "#you can run the below cell to import the required preprocessed data.csv file and glove vector"
   ]
  },
  {
   "cell_type": "code",
   "execution_count": 2,
   "metadata": {},
   "outputs": [],
   "source": [
    "#!gdown --id 1GpATd_pM4mcnWWIs28-s1lgqdAg2Wdv-\n",
    "#!gdown --id 1pGd5tLwA30M7wkbJKdXHaae9tYVDICJ_"
   ]
  },
  {
   "cell_type": "markdown",
   "metadata": {},
   "source": [
    "## <font color='red'> Model-1 </font>\n",
    "Build and Train deep neural network as shown below"
   ]
  },
  {
   "cell_type": "markdown",
   "metadata": {},
   "source": [
    "<img src='https://i.imgur.com/w395Yk9.png'>\n",
    "ref: https://i.imgur.com/w395Yk9.png"
   ]
  },
  {
   "cell_type": "markdown",
   "metadata": {},
   "source": [
    "- __Input_seq_total_text_data__ --- You have to give Total text data columns. After this use the Embedding layer to get word vectors. Use given predefined glove word vectors, don't train any word vectors. After this use LSTM and get the LSTM output and Flatten that output. \n",
    "- __Input_school_state__ --- Give 'school_state' column as input to embedding layer and Train the Keras Embedding layer. \n",
    "- __Project_grade_category__  --- Give 'project_grade_category' column as input to embedding layer and Train the Keras Embedding layer.\n",
    "- __Input_clean_categories__ --- Give 'input_clean_categories' column as input to embedding layer and Train the Keras Embedding layer.\n",
    "- __Input_clean_subcategories__ --- Give 'input_clean_subcategories' column as input to embedding layer and Train the Keras Embedding layer.\n",
    "- __Input_clean_subcategories__ --- Give 'input_teacher_prefix' column as input to embedding layer and Train the Keras Embedding layer.\n",
    "- __Input_remaining_teacher_number_of_previously_posted_projects._resource_summary_contains_numerical_digits._price._quantity__ ---concatenate remaining columns and add a Dense layer after that. \n",
    "\n"
   ]
  },
  {
   "cell_type": "markdown",
   "metadata": {},
   "source": [
    "Below is an example of embedding layer for a categorical columns. In below code all are dummy values, we gave only for referance. "
   ]
  },
  {
   "cell_type": "code",
   "execution_count": 3,
   "metadata": {},
   "outputs": [
    {
     "data": {
      "text/plain": [
       "'input_layer = Input(shape=(n,))\\nembedding = Embedding(no_1, no_2, input_length=n)(input_layer)\\nflatten = Flatten()(embedding)'"
      ]
     },
     "execution_count": 3,
     "metadata": {},
     "output_type": "execute_result"
    }
   ],
   "source": [
    "# https://stats.stackexchange.com/questions/270546/how-does-keras-embedding-layer-work\n",
    "'''input_layer = Input(shape=(n,))\n",
    "embedding = Embedding(no_1, no_2, input_length=n)(input_layer)\n",
    "flatten = Flatten()(embedding)'''"
   ]
  },
  {
   "cell_type": "markdown",
   "metadata": {},
   "source": [
    "### 1. Go through this blog, if you have any doubt on using predefined Embedding values in Embedding layer - https://machinelearningmastery.com/use-word-embedding-layers-deep-learning-keras/\n",
    "### 2. Please go through this link https://keras.io/getting-started/functional-api-guide/ and check the 'Multi-input and multi-output models' then you will get to know how to give multiple inputs. "
   ]
  },
  {
   "cell_type": "markdown",
   "metadata": {},
   "source": [
    "# <font color='red'> Model-1 </font>"
   ]
  },
  {
   "cell_type": "code",
   "execution_count": 4,
   "metadata": {},
   "outputs": [
    {
     "data": {
      "text/plain": [
       "'import os\\nimport pickle\\nimport tensorflow\\nfrom tensorflow.keras.layers import Embedding, LSTM, Dropout, BatchNormalization, Dense, concatenate, Flatten, Conv1D, MaxPool1D, LeakyReLU\\nfrom tensorflow.keras import regularizers\\nfrom tensorflow.keras.initializers import he_normal\\nfrom tensorflow.python.keras.callbacks import TensorBoard\\nfrom keras import Model, Input\\nfrom keras.callbacks import Callback, EarlyStopping, ModelCheckpoint,LearningRateScheduler\\nfrom sklearn.feature_extraction.text import TfidfVectorizer, CountVectorizer\\nfrom sklearn.preprocessing import StandardScaler, LabelEncoder\\nimport regex as re'"
      ]
     },
     "execution_count": 4,
     "metadata": {},
     "output_type": "execute_result"
    }
   ],
   "source": [
    "# import all the libraries\n",
    "#make sure that you import your libraries from tf.keras and not just keras\n",
    "'''import os\n",
    "import pickle\n",
    "import tensorflow\n",
    "from tensorflow.keras.layers import Embedding, LSTM, Dropout, \\\n",
    "BatchNormalization, Dense, concatenate, Flatten, Conv1D, MaxPool1D, LeakyReLU\n",
    "from tensorflow.keras import regularizers\n",
    "from tensorflow.keras.initializers import he_normal\n",
    "from tensorflow.python.keras.callbacks import TensorBoard\n",
    "from keras import Model, Input\n",
    "from keras.callbacks import Callback, EarlyStopping, ModelCheckpoint,LearningRateScheduler\n",
    "from sklearn.feature_extraction.text import TfidfVectorizer, CountVectorizer\n",
    "from sklearn.preprocessing import StandardScaler, LabelEncoder\n",
    "import regex as re'''"
   ]
  },
  {
   "cell_type": "code",
   "execution_count": 71,
   "metadata": {},
   "outputs": [],
   "source": [
    "%load_ext tensorboard\n",
    "import warnings\n",
    "warnings.filterwarnings(\"ignore\")\n",
    "import pandas as pd\n",
    "import numpy as np\n",
    "import os\n",
    "from keras.layers import Input, Embedding, LSTM, Dropout, BatchNormalization, Dense, concatenate, Flatten, Conv1D, MaxPool1D, LeakyReLU, ELU, SpatialDropout1D, MaxPooling1D, GlobalAveragePooling1D, GlobalMaxPooling1D\n",
    "from keras.preprocessing.text import Tokenizer, one_hot\n",
    "from sklearn.preprocessing import StandardScaler\n",
    "from keras.preprocessing.sequence import pad_sequences\n",
    "from keras.models import Model, load_model\n",
    "from keras import regularizers\n",
    "from tensorflow.keras.initializers import he_normal\n",
    "from keras.optimizers import *\n",
    "from keras.callbacks import ModelCheckpoint, EarlyStopping, TensorBoard, ReduceLROnPlateau\n",
    "from sklearn.feature_extraction.text import TfidfVectorizer, CountVectorizer\n",
    "from sklearn.metrics import roc_auc_score\n",
    "import tensorflow as tf\n",
    "import datetime\n",
    "import matplotlib.pyplot as plt\n",
    "%matplotlib inline\n",
    "import re\n",
    "from tqdm import tqdm\n",
    "from sklearn.preprocessing import LabelEncoder\n",
    "import seaborn as sns\n",
    "import pickle"
   ]
  },
  {
   "cell_type": "code",
   "execution_count": 6,
   "metadata": {},
   "outputs": [],
   "source": [
    "os.chdir(r'C:\\Users\\Bazinga\\AAIC\\Assignments\\Donors choose')"
   ]
  },
  {
   "cell_type": "code",
   "execution_count": 7,
   "metadata": {},
   "outputs": [],
   "source": [
    "#read the csv file\n",
    "import pandas as pd\n",
    "df = pd.read_csv('project_data.csv')"
   ]
  },
  {
   "cell_type": "code",
   "execution_count": 8,
   "metadata": {},
   "outputs": [
    {
     "data": {
      "text/plain": [
       "Index(['Unnamed: 0', 'Unnamed: 0.1', 'id', 'teacher_id', 'teacher_prefix',\n",
       "       'school_state', 'project_submitted_datetime', 'project_grade_category',\n",
       "       'project_subject_categories', 'project_subject_subcategories',\n",
       "       'project_title', 'project_essay_1', 'project_essay_2',\n",
       "       'project_essay_3', 'project_essay_4', 'project_resource_summary',\n",
       "       'teacher_number_of_previously_posted_projects', 'project_is_approved',\n",
       "       'essay', 'price', 'quantity', 'std_price', 'nrm_price',\n",
       "       'is_digit_project_resource_summary'],\n",
       "      dtype='object')"
      ]
     },
     "execution_count": 8,
     "metadata": {},
     "output_type": "execute_result"
    }
   ],
   "source": [
    "df.columns"
   ]
  },
  {
   "cell_type": "code",
   "execution_count": 9,
   "metadata": {},
   "outputs": [],
   "source": [
    "data=df[['teacher_prefix', 'school_state', 'project_grade_category', 'project_subject_categories', 'project_subject_subcategories', 'project_resource_summary', 'teacher_number_of_previously_posted_projects', 'project_is_approved','is_digit_project_resource_summary', 'price', 'quantity', 'essay']].copy()"
   ]
  },
  {
   "cell_type": "code",
   "execution_count": 10,
   "metadata": {},
   "outputs": [
    {
     "data": {
      "text/plain": [
       "Index(['teacher_prefix', 'school_state', 'project_grade_category',\n",
       "       'project_subject_categories', 'project_subject_subcategories',\n",
       "       'project_resource_summary',\n",
       "       'teacher_number_of_previously_posted_projects', 'project_is_approved',\n",
       "       'is_digit_project_resource_summary', 'price', 'quantity', 'essay'],\n",
       "      dtype='object')"
      ]
     },
     "execution_count": 10,
     "metadata": {},
     "output_type": "execute_result"
    }
   ],
   "source": [
    "data.columns"
   ]
  },
  {
   "cell_type": "code",
   "execution_count": 11,
   "metadata": {},
   "outputs": [
    {
     "data": {
      "text/html": [
       "<div>\n",
       "<style scoped>\n",
       "    .dataframe tbody tr th:only-of-type {\n",
       "        vertical-align: middle;\n",
       "    }\n",
       "\n",
       "    .dataframe tbody tr th {\n",
       "        vertical-align: top;\n",
       "    }\n",
       "\n",
       "    .dataframe thead th {\n",
       "        text-align: right;\n",
       "    }\n",
       "</style>\n",
       "<table border=\"1\" class=\"dataframe\">\n",
       "  <thead>\n",
       "    <tr style=\"text-align: right;\">\n",
       "      <th></th>\n",
       "      <th>teacher_prefix</th>\n",
       "      <th>school_state</th>\n",
       "      <th>project_grade_category</th>\n",
       "      <th>project_subject_categories</th>\n",
       "      <th>project_subject_subcategories</th>\n",
       "      <th>project_resource_summary</th>\n",
       "      <th>teacher_number_of_previously_posted_projects</th>\n",
       "      <th>project_is_approved</th>\n",
       "      <th>is_digit_project_resource_summary</th>\n",
       "      <th>price</th>\n",
       "      <th>quantity</th>\n",
       "      <th>essay</th>\n",
       "    </tr>\n",
       "  </thead>\n",
       "  <tbody>\n",
       "    <tr>\n",
       "      <th>0</th>\n",
       "      <td>mrs</td>\n",
       "      <td>in</td>\n",
       "      <td>grades_prek_2</td>\n",
       "      <td>literacy_language</td>\n",
       "      <td>esl_literacy</td>\n",
       "      <td>My students need opportunities to practice beg...</td>\n",
       "      <td>0</td>\n",
       "      <td>0</td>\n",
       "      <td>0</td>\n",
       "      <td>154.60</td>\n",
       "      <td>23</td>\n",
       "      <td>My students are English learners that are work...</td>\n",
       "    </tr>\n",
       "    <tr>\n",
       "      <th>1</th>\n",
       "      <td>mr</td>\n",
       "      <td>fl</td>\n",
       "      <td>grades_6_8</td>\n",
       "      <td>history_civics_health_sports</td>\n",
       "      <td>civics_government_teamsports</td>\n",
       "      <td>My students need a projector to help with view...</td>\n",
       "      <td>7</td>\n",
       "      <td>1</td>\n",
       "      <td>0</td>\n",
       "      <td>299.00</td>\n",
       "      <td>1</td>\n",
       "      <td>Our students arrive to our school eager to lea...</td>\n",
       "    </tr>\n",
       "    <tr>\n",
       "      <th>2</th>\n",
       "      <td>ms</td>\n",
       "      <td>az</td>\n",
       "      <td>grades_6_8</td>\n",
       "      <td>health_sports</td>\n",
       "      <td>health_wellness_teamsports</td>\n",
       "      <td>My students need shine guards, athletic socks,...</td>\n",
       "      <td>1</td>\n",
       "      <td>0</td>\n",
       "      <td>0</td>\n",
       "      <td>516.85</td>\n",
       "      <td>22</td>\n",
       "      <td>\\r\\n\\\"True champions aren't always the ones th...</td>\n",
       "    </tr>\n",
       "    <tr>\n",
       "      <th>3</th>\n",
       "      <td>mrs</td>\n",
       "      <td>ky</td>\n",
       "      <td>grades_prek_2</td>\n",
       "      <td>literacy_language_math_science</td>\n",
       "      <td>literacy_mathematics</td>\n",
       "      <td>My students need to engage in Reading and Math...</td>\n",
       "      <td>4</td>\n",
       "      <td>1</td>\n",
       "      <td>0</td>\n",
       "      <td>232.90</td>\n",
       "      <td>4</td>\n",
       "      <td>I work at a unique school filled with both ESL...</td>\n",
       "    </tr>\n",
       "    <tr>\n",
       "      <th>4</th>\n",
       "      <td>mrs</td>\n",
       "      <td>tx</td>\n",
       "      <td>grades_prek_2</td>\n",
       "      <td>math_science</td>\n",
       "      <td>mathematics</td>\n",
       "      <td>My students need hands on practice in mathemat...</td>\n",
       "      <td>1</td>\n",
       "      <td>1</td>\n",
       "      <td>0</td>\n",
       "      <td>67.98</td>\n",
       "      <td>4</td>\n",
       "      <td>Our second grade classroom next year will be m...</td>\n",
       "    </tr>\n",
       "    <tr>\n",
       "      <th>...</th>\n",
       "      <td>...</td>\n",
       "      <td>...</td>\n",
       "      <td>...</td>\n",
       "      <td>...</td>\n",
       "      <td>...</td>\n",
       "      <td>...</td>\n",
       "      <td>...</td>\n",
       "      <td>...</td>\n",
       "      <td>...</td>\n",
       "      <td>...</td>\n",
       "      <td>...</td>\n",
       "      <td>...</td>\n",
       "    </tr>\n",
       "    <tr>\n",
       "      <th>109243</th>\n",
       "      <td>mr</td>\n",
       "      <td>mo</td>\n",
       "      <td>grades_prek_2</td>\n",
       "      <td>literacy_language_math_science</td>\n",
       "      <td>literature_writing_mathematics</td>\n",
       "      <td>My students need these privacy partitions to h...</td>\n",
       "      <td>0</td>\n",
       "      <td>1</td>\n",
       "      <td>0</td>\n",
       "      <td>59.98</td>\n",
       "      <td>8</td>\n",
       "      <td>Welcome to Mr. Ramos's 2nd grade classroom! We...</td>\n",
       "    </tr>\n",
       "    <tr>\n",
       "      <th>109244</th>\n",
       "      <td>ms</td>\n",
       "      <td>nj</td>\n",
       "      <td>grades_prek_2</td>\n",
       "      <td>literacy_language_math_science</td>\n",
       "      <td>literacy_mathematics</td>\n",
       "      <td>My students need two iPad's and protective cas...</td>\n",
       "      <td>0</td>\n",
       "      <td>1</td>\n",
       "      <td>0</td>\n",
       "      <td>846.32</td>\n",
       "      <td>4</td>\n",
       "      <td>Every morning, we start our day with our core ...</td>\n",
       "    </tr>\n",
       "    <tr>\n",
       "      <th>109245</th>\n",
       "      <td>mrs</td>\n",
       "      <td>nj</td>\n",
       "      <td>grades_prek_2</td>\n",
       "      <td>literacy_language_math_science</td>\n",
       "      <td>literacy_mathematics</td>\n",
       "      <td>My students need giant comfy pillows in order ...</td>\n",
       "      <td>3</td>\n",
       "      <td>1</td>\n",
       "      <td>0</td>\n",
       "      <td>239.96</td>\n",
       "      <td>4</td>\n",
       "      <td>This is a great group of sharing and caring st...</td>\n",
       "    </tr>\n",
       "    <tr>\n",
       "      <th>109246</th>\n",
       "      <td>mrs</td>\n",
       "      <td>ny</td>\n",
       "      <td>grades_3_5</td>\n",
       "      <td>health_sports_specialneeds</td>\n",
       "      <td>health_wellness_specialneeds</td>\n",
       "      <td>My students need flexible seating options: bea...</td>\n",
       "      <td>0</td>\n",
       "      <td>1</td>\n",
       "      <td>0</td>\n",
       "      <td>73.05</td>\n",
       "      <td>16</td>\n",
       "      <td>Our students live in a small rural community. ...</td>\n",
       "    </tr>\n",
       "    <tr>\n",
       "      <th>109247</th>\n",
       "      <td>ms</td>\n",
       "      <td>va</td>\n",
       "      <td>grades_6_8</td>\n",
       "      <td>appliedlearning_math_science</td>\n",
       "      <td>college_careerprep_mathematics</td>\n",
       "      <td>My students need opportunities to work with te...</td>\n",
       "      <td>0</td>\n",
       "      <td>1</td>\n",
       "      <td>1</td>\n",
       "      <td>109.90</td>\n",
       "      <td>5</td>\n",
       "      <td>When was the last time that you used math? Pro...</td>\n",
       "    </tr>\n",
       "  </tbody>\n",
       "</table>\n",
       "<p>109248 rows × 12 columns</p>\n",
       "</div>"
      ],
      "text/plain": [
       "       teacher_prefix school_state project_grade_category  \\\n",
       "0                 mrs           in          grades_prek_2   \n",
       "1                  mr           fl             grades_6_8   \n",
       "2                  ms           az             grades_6_8   \n",
       "3                 mrs           ky          grades_prek_2   \n",
       "4                 mrs           tx          grades_prek_2   \n",
       "...               ...          ...                    ...   \n",
       "109243             mr           mo          grades_prek_2   \n",
       "109244             ms           nj          grades_prek_2   \n",
       "109245            mrs           nj          grades_prek_2   \n",
       "109246            mrs           ny             grades_3_5   \n",
       "109247             ms           va             grades_6_8   \n",
       "\n",
       "            project_subject_categories   project_subject_subcategories  \\\n",
       "0                    literacy_language                    esl_literacy   \n",
       "1         history_civics_health_sports    civics_government_teamsports   \n",
       "2                        health_sports      health_wellness_teamsports   \n",
       "3       literacy_language_math_science            literacy_mathematics   \n",
       "4                         math_science                     mathematics   \n",
       "...                                ...                             ...   \n",
       "109243  literacy_language_math_science  literature_writing_mathematics   \n",
       "109244  literacy_language_math_science            literacy_mathematics   \n",
       "109245  literacy_language_math_science            literacy_mathematics   \n",
       "109246      health_sports_specialneeds    health_wellness_specialneeds   \n",
       "109247    appliedlearning_math_science  college_careerprep_mathematics   \n",
       "\n",
       "                                 project_resource_summary  \\\n",
       "0       My students need opportunities to practice beg...   \n",
       "1       My students need a projector to help with view...   \n",
       "2       My students need shine guards, athletic socks,...   \n",
       "3       My students need to engage in Reading and Math...   \n",
       "4       My students need hands on practice in mathemat...   \n",
       "...                                                   ...   \n",
       "109243  My students need these privacy partitions to h...   \n",
       "109244  My students need two iPad's and protective cas...   \n",
       "109245  My students need giant comfy pillows in order ...   \n",
       "109246  My students need flexible seating options: bea...   \n",
       "109247  My students need opportunities to work with te...   \n",
       "\n",
       "        teacher_number_of_previously_posted_projects  project_is_approved  \\\n",
       "0                                                  0                    0   \n",
       "1                                                  7                    1   \n",
       "2                                                  1                    0   \n",
       "3                                                  4                    1   \n",
       "4                                                  1                    1   \n",
       "...                                              ...                  ...   \n",
       "109243                                             0                    1   \n",
       "109244                                             0                    1   \n",
       "109245                                             3                    1   \n",
       "109246                                             0                    1   \n",
       "109247                                             0                    1   \n",
       "\n",
       "        is_digit_project_resource_summary   price  quantity  \\\n",
       "0                                       0  154.60        23   \n",
       "1                                       0  299.00         1   \n",
       "2                                       0  516.85        22   \n",
       "3                                       0  232.90         4   \n",
       "4                                       0   67.98         4   \n",
       "...                                   ...     ...       ...   \n",
       "109243                                  0   59.98         8   \n",
       "109244                                  0  846.32         4   \n",
       "109245                                  0  239.96         4   \n",
       "109246                                  0   73.05        16   \n",
       "109247                                  1  109.90         5   \n",
       "\n",
       "                                                    essay  \n",
       "0       My students are English learners that are work...  \n",
       "1       Our students arrive to our school eager to lea...  \n",
       "2       \\r\\n\\\"True champions aren't always the ones th...  \n",
       "3       I work at a unique school filled with both ESL...  \n",
       "4       Our second grade classroom next year will be m...  \n",
       "...                                                   ...  \n",
       "109243  Welcome to Mr. Ramos's 2nd grade classroom! We...  \n",
       "109244  Every morning, we start our day with our core ...  \n",
       "109245  This is a great group of sharing and caring st...  \n",
       "109246  Our students live in a small rural community. ...  \n",
       "109247  When was the last time that you used math? Pro...  \n",
       "\n",
       "[109248 rows x 12 columns]"
      ]
     },
     "execution_count": 11,
     "metadata": {},
     "output_type": "execute_result"
    }
   ],
   "source": [
    "data"
   ]
  },
  {
   "cell_type": "code",
   "execution_count": 12,
   "metadata": {},
   "outputs": [],
   "source": [
    "# perform stratified train test split on the dataset\n",
    "from sklearn.model_selection import train_test_split\n",
    "x_train, x_test, y_train, y_test = train_test_split(data.drop(['project_is_approved'], axis=1), data['project_is_approved'], test_size=0.30, random_state=1, stratify=df['project_is_approved'])"
   ]
  },
  {
   "cell_type": "code",
   "execution_count": 13,
   "metadata": {},
   "outputs": [
    {
     "data": {
      "text/plain": [
       "76473"
      ]
     },
     "execution_count": 13,
     "metadata": {},
     "output_type": "execute_result"
    }
   ],
   "source": [
    "len(x_train)"
   ]
  },
  {
   "cell_type": "code",
   "execution_count": 14,
   "metadata": {},
   "outputs": [
    {
     "data": {
      "text/plain": [
       "32775"
      ]
     },
     "execution_count": 14,
     "metadata": {},
     "output_type": "execute_result"
    }
   ],
   "source": [
    "len(x_test)"
   ]
  },
  {
   "cell_type": "code",
   "execution_count": 15,
   "metadata": {},
   "outputs": [
    {
     "data": {
      "text/plain": [
       "(76473,)"
      ]
     },
     "execution_count": 15,
     "metadata": {},
     "output_type": "execute_result"
    }
   ],
   "source": [
    "y_train.shape"
   ]
  },
  {
   "cell_type": "code",
   "execution_count": 16,
   "metadata": {},
   "outputs": [
    {
     "data": {
      "text/plain": [
       "(32775,)"
      ]
     },
     "execution_count": 16,
     "metadata": {},
     "output_type": "execute_result"
    }
   ],
   "source": [
    "y_test.shape"
   ]
  },
  {
   "cell_type": "markdown",
   "metadata": {},
   "source": [
    "## 1.1 Text Vectorization"
   ]
  },
  {
   "cell_type": "code",
   "execution_count": 17,
   "metadata": {},
   "outputs": [],
   "source": [
    "#let's get all unique words present in essay text using idf values\n",
    "tfidfVector=TfidfVectorizer()\n",
    "\n",
    "tfidfVector.fit_transform(x_train['essay'])\n",
    "train_essay_idf=tfidfVector.idf_\n",
    "train_essay_vocab=tfidfVector.vocabulary_"
   ]
  },
  {
   "cell_type": "code",
   "execution_count": 18,
   "metadata": {},
   "outputs": [
    {
     "data": {
      "text/plain": [
       "52776"
      ]
     },
     "execution_count": 18,
     "metadata": {},
     "output_type": "execute_result"
    }
   ],
   "source": [
    "len(train_essay_idf)"
   ]
  },
  {
   "cell_type": "code",
   "execution_count": 19,
   "metadata": {},
   "outputs": [
    {
     "data": {
      "text/plain": [
       "52776"
      ]
     },
     "execution_count": 19,
     "metadata": {},
     "output_type": "execute_result"
    }
   ],
   "source": [
    "len(train_essay_vocab)"
   ]
  },
  {
   "cell_type": "code",
   "execution_count": 20,
   "metadata": {},
   "outputs": [
    {
     "data": {
      "image/png": "[encoded data removed]",
      "text/plain": [
       "<Figure size 360x360 with 1 Axes>"
      ]
     },
     "metadata": {
      "needs_background": "light"
     },
     "output_type": "display_data"
    }
   ],
   "source": [
    "import seaborn as sns\n",
    "import matplotlib.pyplot as plt\n",
    "sns.displot(train_essay_idf, kind='kde')\n",
    "plt.show()"
   ]
  },
  {
   "cell_type": "code",
   "execution_count": 21,
   "metadata": {},
   "outputs": [
    {
     "data": {
      "image/png": "[encoded data removed]",
      "text/plain": [
       "<Figure size 360x360 with 1 Axes>"
      ]
     },
     "metadata": {
      "needs_background": "light"
     },
     "output_type": "display_data"
    }
   ],
   "source": [
    "sns.displot(train_essay_idf, kind='kde')\n",
    "plt.xlim(11,12)\n",
    "plt.show()"
   ]
  },
  {
   "cell_type": "markdown",
   "metadata": {},
   "source": [
    "#### Let's consider only the words whose idf >6"
   ]
  },
  {
   "cell_type": "code",
   "execution_count": 22,
   "metadata": {},
   "outputs": [],
   "source": [
    "train_essay_idf_vocab=dict(list(zip( train_essay_vocab, train_essay_idf)))"
   ]
  },
  {
   "cell_type": "code",
   "execution_count": 23,
   "metadata": {
    "scrolled": false
   },
   "outputs": [
    {
     "data": {
      "text/plain": [
       "52776"
      ]
     },
     "execution_count": 23,
     "metadata": {},
     "output_type": "execute_result"
    }
   ],
   "source": [
    "len(train_essay_idf_vocab)"
   ]
  },
  {
   "cell_type": "code",
   "execution_count": 24,
   "metadata": {},
   "outputs": [],
   "source": [
    "# words with idf > 6\n",
    "train_essay_idf_vocab=dict([(k,v) for k,v in train_essay_idf_vocab.items() if v>6.0 if v<11.8])"
   ]
  },
  {
   "cell_type": "code",
   "execution_count": 25,
   "metadata": {},
   "outputs": [
    {
     "data": {
      "text/plain": [
       "50527"
      ]
     },
     "execution_count": 25,
     "metadata": {},
     "output_type": "execute_result"
    }
   ],
   "source": [
    "len(train_essay_idf_vocab)"
   ]
  },
  {
   "cell_type": "code",
   "execution_count": 26,
   "metadata": {},
   "outputs": [
    {
     "data": {
      "text/plain": [
       "11.551558912204982"
      ]
     },
     "execution_count": 26,
     "metadata": {},
     "output_type": "execute_result"
    }
   ],
   "source": [
    "train_essay_idf_vocab.get('book')"
   ]
  },
  {
   "cell_type": "code",
   "execution_count": 27,
   "metadata": {},
   "outputs": [],
   "source": [
    "#since the data is already preprocessed, we can directly move to vectorization part\n",
    "#first we will vectorize the text data\n",
    "#for vectorization of text data in deep learning we use tokenizer, you can go through below references\n",
    "# https://www.kdnuggets.com/2020/03/tensorflow-keras-tokenization-text-data-prep.html\n",
    "#https://stackoverflow.com/questions/51956000/what-does-keras-tokenizer-method-exactly-do\n",
    "# after text vectorization you should get train_padded_docs and test_padded_docs\n",
    "from tensorflow.keras.preprocessing.text import Tokenizer\n",
    "from tensorflow.keras.preprocessing.sequence import pad_sequences\n",
    "\n",
    "# Tokenize our training data\n",
    "tokenizer = Tokenizer()\n",
    "tokenizer.fit_on_texts(train_essay_idf_vocab.keys())\n",
    "\n",
    "\n",
    "# Encode training data sentences into sequences\n",
    "train_sequences = tokenizer.texts_to_sequences(x_train['essay'])\n",
    "test_sequences = tokenizer.texts_to_sequences(x_test['essay'])\n",
    "\n",
    "#word index\n",
    "word_index = tokenizer.word_index\n"
   ]
  },
  {
   "cell_type": "code",
   "execution_count": 28,
   "metadata": {},
   "outputs": [
    {
     "data": {
      "text/plain": [
       "50509"
      ]
     },
     "execution_count": 28,
     "metadata": {},
     "output_type": "execute_result"
    }
   ],
   "source": [
    "len(word_index)"
   ]
  },
  {
   "cell_type": "code",
   "execution_count": 29,
   "metadata": {},
   "outputs": [
    {
     "data": {
      "text/plain": [
       "155"
      ]
     },
     "execution_count": 29,
     "metadata": {},
     "output_type": "execute_result"
    }
   ],
   "source": [
    "#index for word 'book' in word_index\n",
    "word_index.get('book')"
   ]
  },
  {
   "cell_type": "code",
   "execution_count": 30,
   "metadata": {},
   "outputs": [],
   "source": [
    "#Pad the training sequences\n",
    "train_padded_docs = pad_sequences(train_sequences, maxlen=200)\n",
    "test_padded_docs = pad_sequences(test_sequences, maxlen=200)\n"
   ]
  },
  {
   "cell_type": "code",
   "execution_count": 31,
   "metadata": {},
   "outputs": [
    {
     "name": "stdout",
     "output_type": "stream",
     "text": [
      "Padded training shape: (76473, 200)\n",
      "Padded training shape: (32775, 200)\n"
     ]
    }
   ],
   "source": [
    "#print(train_padded_docs[0])\n",
    "print(\"Padded training shape:\", train_padded_docs.shape)\n",
    "print(\"Padded training shape:\", test_padded_docs.shape)"
   ]
  },
  {
   "cell_type": "code",
   "execution_count": 32,
   "metadata": {},
   "outputs": [
    {
     "data": {
      "text/plain": [
       "51510"
      ]
     },
     "execution_count": 32,
     "metadata": {},
     "output_type": "execute_result"
    }
   ],
   "source": [
    "#after getting the padded_docs you have to use predefined glove vectors to get 300 dim representation for each word\n",
    "# we will be storing this data in form of an embedding matrix and will use it while defining our model\n",
    "# Please go through following blog's 'Example of Using Pre-Trained GloVe Embedding' section to understand how to create embedding matrix\n",
    "# https://machinelearningmastery.com/use-word-embedding-layers-deep-learning-keras/\n",
    "\n",
    "filename=r'C:\\Users\\Bazinga\\AAIC\\Assignments\\Donors choose\\glove_vectors'\n",
    "with open(filename, 'rb') as f:\n",
    "    glove_vectors = pickle.load(f)\n",
    "          \n",
    "len(glove_vectors)"
   ]
  },
  {
   "cell_type": "code",
   "execution_count": 33,
   "metadata": {},
   "outputs": [
    {
     "data": {
      "text/plain": [
       "array([ 3.8601e-01, -3.0722e-02,  1.0253e-02, -7.4123e-03, -3.6596e-01,\n",
       "        5.5008e-01, -2.8315e+00,  1.3928e-01, -3.8478e-01, -1.8240e-01,\n",
       "       -1.1115e-01, -1.5533e-01,  3.2932e-01,  1.2650e-01,  1.4454e-01,\n",
       "        1.7744e-01, -1.3911e-01, -6.6150e-02,  2.6200e-01,  1.2449e-01,\n",
       "        1.1151e-01, -1.0464e-02, -3.7677e-01,  3.4683e-02, -3.2079e-01,\n",
       "       -3.2604e-01, -3.3666e-01,  2.7382e-01, -2.4268e-01, -2.1725e-01,\n",
       "        9.1897e-01, -6.4498e-01,  5.4469e-01,  1.8540e-01,  2.7719e-01,\n",
       "        3.6023e-01,  2.0500e-01, -4.7606e-01, -1.1422e-01,  3.4933e-01,\n",
       "       -4.6246e-01, -9.4401e-02, -7.7117e-01, -2.4260e-01, -4.4962e-02,\n",
       "        6.2085e-02, -1.0465e-01,  2.2715e-01, -5.2959e-01,  9.6466e-02,\n",
       "        1.0507e-01, -2.1318e-01, -3.6708e-02,  3.3726e-02, -4.1630e-01,\n",
       "        9.9894e-02,  5.8242e-01,  1.9571e-01,  1.9870e-01,  3.5501e-01,\n",
       "       -8.9476e-02, -2.0641e-01,  4.5121e-01,  3.3548e-01,  3.2789e-02,\n",
       "        3.9188e-01,  6.8119e-01,  4.0375e-01,  3.6739e-02, -1.3552e-01,\n",
       "       -1.7286e-01, -3.5455e-01,  1.0760e-01, -1.3981e-01, -4.8433e-02,\n",
       "       -1.6870e-01, -4.1421e-02, -6.2495e-02,  3.1151e-01, -2.7329e-01,\n",
       "        1.2747e-01, -9.2738e-01,  3.0241e-01,  8.7114e-03, -1.7492e-01,\n",
       "        3.2194e-01,  1.1893e-01, -1.1761e-01, -2.3349e-02,  2.7279e-01,\n",
       "       -4.4324e-01,  4.3804e-01,  3.3230e-01,  3.1814e-01, -2.5959e-01,\n",
       "       -4.7693e-01, -2.6488e+00, -1.2693e-01, -3.6810e-01, -5.6442e-01,\n",
       "       -1.3467e-01, -3.4349e-01,  3.7686e-01, -1.3644e-01,  1.2487e-01,\n",
       "       -8.4632e-02,  3.3765e-01,  9.4977e-02,  6.6684e-03,  2.4131e-01,\n",
       "       -6.3022e-01, -4.1562e-02,  4.2507e-02, -1.5487e-01, -6.1712e-01,\n",
       "        4.8802e-01,  4.1461e-01,  2.2409e-01,  4.8401e-03, -2.0551e-01,\n",
       "        1.1955e-01,  5.7774e-01, -1.7419e-01,  7.1714e-02,  1.9919e-01,\n",
       "        1.1854e-01, -1.0259e-01,  4.0333e-01,  1.6551e-01,  1.7081e-01,\n",
       "       -9.5826e-02, -5.4601e-02,  1.6991e-01, -4.5792e-01,  3.2431e-01,\n",
       "       -3.1717e-01,  1.2833e+00,  3.2422e-02,  3.1679e-01,  6.5336e-01,\n",
       "        5.6014e-01, -3.1631e-01,  8.3043e-01,  8.0760e-02, -3.5385e-01,\n",
       "       -1.2921e-01,  1.0387e-02, -1.6432e-01,  4.6881e-01,  3.7533e-01,\n",
       "       -1.4891e-01,  3.0364e-01, -9.5111e-02, -1.4703e-01,  5.8743e-01,\n",
       "        3.0765e-01, -7.2218e-01,  2.8296e-01, -4.1400e-01,  3.8635e-01,\n",
       "        4.9118e-01,  3.3099e-01,  2.8279e-01,  2.6469e-01, -2.0719e-01,\n",
       "       -1.5553e-01, -3.5780e-01, -9.3439e-03,  4.4819e-01,  1.1847e-01,\n",
       "        3.1765e-01, -4.1051e-01, -4.3053e-01, -3.1495e-01, -1.2665e-01,\n",
       "        2.0429e-01, -1.3970e-01, -2.6733e-01, -4.0376e-01, -2.9918e-01,\n",
       "       -2.1285e-01,  2.7220e-01, -6.1634e-01,  2.4048e-02,  9.3053e-02,\n",
       "       -1.6564e-01, -3.5049e-01, -6.8536e-01,  1.1858e-01,  7.0775e-01,\n",
       "       -1.2065e-01, -6.4198e-02,  9.4309e-02, -4.4554e-02, -2.5517e-01,\n",
       "        1.0819e-01, -1.9272e-01, -2.4683e-01,  9.0540e-02,  1.5247e-01,\n",
       "        2.5552e-02,  4.0057e-02,  1.7257e-01,  1.8628e-01,  1.1284e-01,\n",
       "        1.3161e-01, -4.5394e-01,  1.5542e-01,  3.4544e-01,  3.3637e-01,\n",
       "        6.9891e-01,  2.2012e-01, -9.1505e-02, -1.3337e-01, -3.0677e-01,\n",
       "        1.0110e-01,  5.3840e-01,  1.0352e-02,  8.1562e-01, -1.8131e-03,\n",
       "       -3.5037e-01,  6.8110e-02,  2.3278e-02, -5.2572e-01, -2.9348e+00,\n",
       "       -2.9395e-01, -1.1850e-01, -1.2442e-01, -2.2822e-01, -3.3365e-01,\n",
       "       -4.4752e-01, -1.6868e-01, -8.6312e-03, -1.3359e-01,  3.8676e-01,\n",
       "        2.9566e-01,  3.2469e-01,  1.4067e-02, -6.0179e-01, -4.1446e-01,\n",
       "        3.3745e-01,  4.5383e-01, -5.0710e-01,  5.5865e-01, -4.1193e-02,\n",
       "        1.1978e-01, -8.1994e-02,  8.0616e-02, -1.9724e-01, -1.8314e-01,\n",
       "       -1.5454e-01,  2.9520e-01,  5.2549e-01, -1.1976e-01, -1.4113e-01,\n",
       "        1.8106e-02,  2.0639e-01, -1.1246e-01,  4.1597e-01,  1.7701e-01,\n",
       "       -3.7655e-03,  2.1242e-01,  1.7251e-01,  4.4904e-01, -3.7589e-02,\n",
       "        1.3858e-02,  1.1239e-01,  1.7070e-01,  1.9735e-01, -1.4324e-01,\n",
       "       -2.1999e-02,  2.3132e-01, -3.4284e-01,  6.2926e-02, -5.9927e-01,\n",
       "        1.1832e-01,  3.5352e-01,  1.3449e-01,  6.8210e-02, -6.6501e-02,\n",
       "       -1.1967e-01,  4.3001e-01,  2.1930e-01,  1.0401e+00,  2.2272e-01,\n",
       "        9.5415e-02, -2.9694e-01,  1.5329e-01, -1.4479e-01, -6.4218e-01,\n",
       "        5.9273e-02, -5.4404e-02,  1.6468e-01,  2.4921e-01, -2.3829e-01,\n",
       "       -1.3634e-01,  6.3933e-01,  6.9549e-01,  1.0035e-01, -3.1394e-01])"
      ]
     },
     "execution_count": 33,
     "metadata": {},
     "output_type": "execute_result"
    }
   ],
   "source": [
    "#vector for word 'book' in\n",
    "glove_vectors.get('book')"
   ]
  },
  {
   "cell_type": "code",
   "execution_count": 34,
   "metadata": {},
   "outputs": [],
   "source": [
    "#https://machinelearningmastery.com/use-word-embedding-layers-deep-learning-keras/\n",
    "#https://www.geeksforgeeks.org/pre-trained-word-embedding-using-glove-in-nlp-models/\n",
    "import numpy as np\n",
    "embed_matrix=np.zeros((len(word_index)+1, 300))\n",
    "for word, index in word_index.items():\n",
    "    if glove_vectors.get(word) is not None:\n",
    "        embed_matrix[index]=glove_vectors.get(word)\n",
    "        "
   ]
  },
  {
   "cell_type": "code",
   "execution_count": 35,
   "metadata": {},
   "outputs": [
    {
     "data": {
      "text/plain": [
       "(50510, 300)"
      ]
     },
     "execution_count": 35,
     "metadata": {},
     "output_type": "execute_result"
    }
   ],
   "source": [
    "embed_matrix.shape"
   ]
  },
  {
   "cell_type": "code",
   "execution_count": 36,
   "metadata": {},
   "outputs": [
    {
     "data": {
      "text/plain": [
       "array([ 3.8601e-01, -3.0722e-02,  1.0253e-02, -7.4123e-03, -3.6596e-01,\n",
       "        5.5008e-01, -2.8315e+00,  1.3928e-01, -3.8478e-01, -1.8240e-01,\n",
       "       -1.1115e-01, -1.5533e-01,  3.2932e-01,  1.2650e-01,  1.4454e-01,\n",
       "        1.7744e-01, -1.3911e-01, -6.6150e-02,  2.6200e-01,  1.2449e-01,\n",
       "        1.1151e-01, -1.0464e-02, -3.7677e-01,  3.4683e-02, -3.2079e-01,\n",
       "       -3.2604e-01, -3.3666e-01,  2.7382e-01, -2.4268e-01, -2.1725e-01,\n",
       "        9.1897e-01, -6.4498e-01,  5.4469e-01,  1.8540e-01,  2.7719e-01,\n",
       "        3.6023e-01,  2.0500e-01, -4.7606e-01, -1.1422e-01,  3.4933e-01,\n",
       "       -4.6246e-01, -9.4401e-02, -7.7117e-01, -2.4260e-01, -4.4962e-02,\n",
       "        6.2085e-02, -1.0465e-01,  2.2715e-01, -5.2959e-01,  9.6466e-02,\n",
       "        1.0507e-01, -2.1318e-01, -3.6708e-02,  3.3726e-02, -4.1630e-01,\n",
       "        9.9894e-02,  5.8242e-01,  1.9571e-01,  1.9870e-01,  3.5501e-01,\n",
       "       -8.9476e-02, -2.0641e-01,  4.5121e-01,  3.3548e-01,  3.2789e-02,\n",
       "        3.9188e-01,  6.8119e-01,  4.0375e-01,  3.6739e-02, -1.3552e-01,\n",
       "       -1.7286e-01, -3.5455e-01,  1.0760e-01, -1.3981e-01, -4.8433e-02,\n",
       "       -1.6870e-01, -4.1421e-02, -6.2495e-02,  3.1151e-01, -2.7329e-01,\n",
       "        1.2747e-01, -9.2738e-01,  3.0241e-01,  8.7114e-03, -1.7492e-01,\n",
       "        3.2194e-01,  1.1893e-01, -1.1761e-01, -2.3349e-02,  2.7279e-01,\n",
       "       -4.4324e-01,  4.3804e-01,  3.3230e-01,  3.1814e-01, -2.5959e-01,\n",
       "       -4.7693e-01, -2.6488e+00, -1.2693e-01, -3.6810e-01, -5.6442e-01,\n",
       "       -1.3467e-01, -3.4349e-01,  3.7686e-01, -1.3644e-01,  1.2487e-01,\n",
       "       -8.4632e-02,  3.3765e-01,  9.4977e-02,  6.6684e-03,  2.4131e-01,\n",
       "       -6.3022e-01, -4.1562e-02,  4.2507e-02, -1.5487e-01, -6.1712e-01,\n",
       "        4.8802e-01,  4.1461e-01,  2.2409e-01,  4.8401e-03, -2.0551e-01,\n",
       "        1.1955e-01,  5.7774e-01, -1.7419e-01,  7.1714e-02,  1.9919e-01,\n",
       "        1.1854e-01, -1.0259e-01,  4.0333e-01,  1.6551e-01,  1.7081e-01,\n",
       "       -9.5826e-02, -5.4601e-02,  1.6991e-01, -4.5792e-01,  3.2431e-01,\n",
       "       -3.1717e-01,  1.2833e+00,  3.2422e-02,  3.1679e-01,  6.5336e-01,\n",
       "        5.6014e-01, -3.1631e-01,  8.3043e-01,  8.0760e-02, -3.5385e-01,\n",
       "       -1.2921e-01,  1.0387e-02, -1.6432e-01,  4.6881e-01,  3.7533e-01,\n",
       "       -1.4891e-01,  3.0364e-01, -9.5111e-02, -1.4703e-01,  5.8743e-01,\n",
       "        3.0765e-01, -7.2218e-01,  2.8296e-01, -4.1400e-01,  3.8635e-01,\n",
       "        4.9118e-01,  3.3099e-01,  2.8279e-01,  2.6469e-01, -2.0719e-01,\n",
       "       -1.5553e-01, -3.5780e-01, -9.3439e-03,  4.4819e-01,  1.1847e-01,\n",
       "        3.1765e-01, -4.1051e-01, -4.3053e-01, -3.1495e-01, -1.2665e-01,\n",
       "        2.0429e-01, -1.3970e-01, -2.6733e-01, -4.0376e-01, -2.9918e-01,\n",
       "       -2.1285e-01,  2.7220e-01, -6.1634e-01,  2.4048e-02,  9.3053e-02,\n",
       "       -1.6564e-01, -3.5049e-01, -6.8536e-01,  1.1858e-01,  7.0775e-01,\n",
       "       -1.2065e-01, -6.4198e-02,  9.4309e-02, -4.4554e-02, -2.5517e-01,\n",
       "        1.0819e-01, -1.9272e-01, -2.4683e-01,  9.0540e-02,  1.5247e-01,\n",
       "        2.5552e-02,  4.0057e-02,  1.7257e-01,  1.8628e-01,  1.1284e-01,\n",
       "        1.3161e-01, -4.5394e-01,  1.5542e-01,  3.4544e-01,  3.3637e-01,\n",
       "        6.9891e-01,  2.2012e-01, -9.1505e-02, -1.3337e-01, -3.0677e-01,\n",
       "        1.0110e-01,  5.3840e-01,  1.0352e-02,  8.1562e-01, -1.8131e-03,\n",
       "       -3.5037e-01,  6.8110e-02,  2.3278e-02, -5.2572e-01, -2.9348e+00,\n",
       "       -2.9395e-01, -1.1850e-01, -1.2442e-01, -2.2822e-01, -3.3365e-01,\n",
       "       -4.4752e-01, -1.6868e-01, -8.6312e-03, -1.3359e-01,  3.8676e-01,\n",
       "        2.9566e-01,  3.2469e-01,  1.4067e-02, -6.0179e-01, -4.1446e-01,\n",
       "        3.3745e-01,  4.5383e-01, -5.0710e-01,  5.5865e-01, -4.1193e-02,\n",
       "        1.1978e-01, -8.1994e-02,  8.0616e-02, -1.9724e-01, -1.8314e-01,\n",
       "       -1.5454e-01,  2.9520e-01,  5.2549e-01, -1.1976e-01, -1.4113e-01,\n",
       "        1.8106e-02,  2.0639e-01, -1.1246e-01,  4.1597e-01,  1.7701e-01,\n",
       "       -3.7655e-03,  2.1242e-01,  1.7251e-01,  4.4904e-01, -3.7589e-02,\n",
       "        1.3858e-02,  1.1239e-01,  1.7070e-01,  1.9735e-01, -1.4324e-01,\n",
       "       -2.1999e-02,  2.3132e-01, -3.4284e-01,  6.2926e-02, -5.9927e-01,\n",
       "        1.1832e-01,  3.5352e-01,  1.3449e-01,  6.8210e-02, -6.6501e-02,\n",
       "       -1.1967e-01,  4.3001e-01,  2.1930e-01,  1.0401e+00,  2.2272e-01,\n",
       "        9.5415e-02, -2.9694e-01,  1.5329e-01, -1.4479e-01, -6.4218e-01,\n",
       "        5.9273e-02, -5.4404e-02,  1.6468e-01,  2.4921e-01, -2.3829e-01,\n",
       "       -1.3634e-01,  6.3933e-01,  6.9549e-01,  1.0035e-01, -3.1394e-01])"
      ]
     },
     "execution_count": 36,
     "metadata": {},
     "output_type": "execute_result"
    }
   ],
   "source": [
    "#vector for word 'book' in embed_matrix\n",
    "embed_matrix[155]"
   ]
  },
  {
   "cell_type": "markdown",
   "metadata": {},
   "source": [
    "## 1.2 Categorical feature Vectorization"
   ]
  },
  {
   "cell_type": "code",
   "execution_count": 37,
   "metadata": {},
   "outputs": [
    {
     "data": {
      "text/html": [
       "<div>\n",
       "<style scoped>\n",
       "    .dataframe tbody tr th:only-of-type {\n",
       "        vertical-align: middle;\n",
       "    }\n",
       "\n",
       "    .dataframe tbody tr th {\n",
       "        vertical-align: top;\n",
       "    }\n",
       "\n",
       "    .dataframe thead th {\n",
       "        text-align: right;\n",
       "    }\n",
       "</style>\n",
       "<table border=\"1\" class=\"dataframe\">\n",
       "  <thead>\n",
       "    <tr style=\"text-align: right;\">\n",
       "      <th></th>\n",
       "      <th>teacher_prefix</th>\n",
       "      <th>school_state</th>\n",
       "      <th>project_grade_category</th>\n",
       "      <th>project_subject_categories</th>\n",
       "      <th>project_subject_subcategories</th>\n",
       "      <th>project_resource_summary</th>\n",
       "      <th>teacher_number_of_previously_posted_projects</th>\n",
       "      <th>is_digit_project_resource_summary</th>\n",
       "      <th>price</th>\n",
       "      <th>quantity</th>\n",
       "      <th>essay</th>\n",
       "    </tr>\n",
       "  </thead>\n",
       "  <tbody>\n",
       "    <tr>\n",
       "      <th>67032</th>\n",
       "      <td>mrs</td>\n",
       "      <td>id</td>\n",
       "      <td>grades_prek_2</td>\n",
       "      <td>literacy_language</td>\n",
       "      <td>literacy</td>\n",
       "      <td>My students need book bins to hold our classro...</td>\n",
       "      <td>1</td>\n",
       "      <td>0</td>\n",
       "      <td>4.21</td>\n",
       "      <td>25</td>\n",
       "      <td>Next year I will be moving to 1st grade and te...</td>\n",
       "    </tr>\n",
       "    <tr>\n",
       "      <th>103426</th>\n",
       "      <td>mrs</td>\n",
       "      <td>wa</td>\n",
       "      <td>grades_prek_2</td>\n",
       "      <td>literacy_language</td>\n",
       "      <td>literature_writing</td>\n",
       "      <td>My students need headphones to minimize the no...</td>\n",
       "      <td>1</td>\n",
       "      <td>0</td>\n",
       "      <td>75.12</td>\n",
       "      <td>20</td>\n",
       "      <td>My second grade classroom is made up of 23 stu...</td>\n",
       "    </tr>\n",
       "  </tbody>\n",
       "</table>\n",
       "</div>"
      ],
      "text/plain": [
       "       teacher_prefix school_state project_grade_category  \\\n",
       "67032             mrs           id          grades_prek_2   \n",
       "103426            mrs           wa          grades_prek_2   \n",
       "\n",
       "       project_subject_categories project_subject_subcategories  \\\n",
       "67032           literacy_language                      literacy   \n",
       "103426          literacy_language            literature_writing   \n",
       "\n",
       "                                 project_resource_summary  \\\n",
       "67032   My students need book bins to hold our classro...   \n",
       "103426  My students need headphones to minimize the no...   \n",
       "\n",
       "        teacher_number_of_previously_posted_projects  \\\n",
       "67032                                              1   \n",
       "103426                                             1   \n",
       "\n",
       "        is_digit_project_resource_summary  price  quantity  \\\n",
       "67032                                   0   4.21        25   \n",
       "103426                                  0  75.12        20   \n",
       "\n",
       "                                                    essay  \n",
       "67032   Next year I will be moving to 1st grade and te...  \n",
       "103426  My second grade classroom is made up of 23 stu...  "
      ]
     },
     "execution_count": 37,
     "metadata": {},
     "output_type": "execute_result"
    }
   ],
   "source": [
    "x_train.head(2)"
   ]
  },
  {
   "cell_type": "code",
   "execution_count": 38,
   "metadata": {},
   "outputs": [],
   "source": [
    "# for model 1 and model 2, we have to assign a unique number to each feature in a particular categorical column.\n",
    "# you can either use tokenizer,label encoder or ordinal encoder to perform the task\n",
    "# label encoder gives an error for 'unseen values' (values present in test but not in train)\n",
    "# handle unseen values with label encoder - https://stackoverflow.com/a/56876351\n",
    "# ordinal encoder also gives error with unseen values but you can use modify handle_unknown parameter\n",
    "# documentation of ordianl encoder https://scikit-learn.org/stable/modules/generated/sklearn.preprocessing.OrdinalEncoder.html\n",
    "# after categorical feature vectorization you will have column_train_data and column_test_data.\n",
    "labelEncoder=LabelEncoder()\n",
    "labelEncoder.fit(x_train[\"teacher_prefix\"])\n",
    "\n",
    "train_teacher_prefix = labelEncoder.fit_transform(x_train[\"teacher_prefix\"])\n",
    "test_teacher_prefix = labelEncoder.transform(x_test[\"teacher_prefix\"])"
   ]
  },
  {
   "cell_type": "code",
   "execution_count": 39,
   "metadata": {},
   "outputs": [
    {
     "data": {
      "text/plain": [
       "5"
      ]
     },
     "execution_count": 39,
     "metadata": {},
     "output_type": "execute_result"
    }
   ],
   "source": [
    "x_train[\"teacher_prefix\"].nunique()"
   ]
  },
  {
   "cell_type": "code",
   "execution_count": 40,
   "metadata": {},
   "outputs": [
    {
     "data": {
      "text/plain": [
       "2"
      ]
     },
     "execution_count": 40,
     "metadata": {},
     "output_type": "execute_result"
    }
   ],
   "source": [
    "train_teacher_prefix[0]"
   ]
  },
  {
   "cell_type": "code",
   "execution_count": 41,
   "metadata": {},
   "outputs": [],
   "source": [
    "labelEncoder.fit(x_train[\"school_state\"])\n",
    "\n",
    "train_school_state = labelEncoder.fit_transform(x_train[\"school_state\"])\n",
    "test_school_state = labelEncoder.transform(x_test[\"school_state\"])"
   ]
  },
  {
   "cell_type": "code",
   "execution_count": 42,
   "metadata": {},
   "outputs": [
    {
     "data": {
      "text/plain": [
       "51"
      ]
     },
     "execution_count": 42,
     "metadata": {},
     "output_type": "execute_result"
    }
   ],
   "source": [
    "x_train[\"school_state\"].nunique()"
   ]
  },
  {
   "cell_type": "code",
   "execution_count": 43,
   "metadata": {},
   "outputs": [
    {
     "data": {
      "text/plain": [
       "array([13, 47, 25, ..., 22, 34, 36])"
      ]
     },
     "execution_count": 43,
     "metadata": {},
     "output_type": "execute_result"
    }
   ],
   "source": [
    "train_school_state"
   ]
  },
  {
   "cell_type": "code",
   "execution_count": 44,
   "metadata": {},
   "outputs": [],
   "source": [
    "labelEncoder.fit(x_train[\"project_grade_category\"])\n",
    "\n",
    "train_project_grade_category= labelEncoder.fit_transform(x_train[\"project_grade_category\"])\n",
    "test_project_grade_category= labelEncoder.transform(x_test[\"project_grade_category\"])"
   ]
  },
  {
   "cell_type": "code",
   "execution_count": 45,
   "metadata": {},
   "outputs": [
    {
     "data": {
      "text/plain": [
       "4"
      ]
     },
     "execution_count": 45,
     "metadata": {},
     "output_type": "execute_result"
    }
   ],
   "source": [
    "x_train[\"project_grade_category\"].nunique()"
   ]
  },
  {
   "cell_type": "code",
   "execution_count": 46,
   "metadata": {},
   "outputs": [
    {
     "data": {
      "text/plain": [
       "array([3, 3, 0, ..., 0, 3, 2])"
      ]
     },
     "execution_count": 46,
     "metadata": {},
     "output_type": "execute_result"
    }
   ],
   "source": [
    "train_project_grade_category"
   ]
  },
  {
   "cell_type": "code",
   "execution_count": 47,
   "metadata": {},
   "outputs": [],
   "source": [
    "labelEncoder.fit(x_train[\"project_subject_categories\"])\n",
    "\n",
    "x_test[\"project_subject_categories\"] = x_test[\"project_subject_categories\"]\\\n",
    "                            .map(lambda cls: '<absent>' if cls not in labelEncoder.classes_ else cls)\n",
    "labelEncoder.classes_ = np.append(labelEncoder.classes_, '<absent>')\n",
    "train_project_subject_categories= labelEncoder.transform(x_train[\"project_subject_categories\"])\n",
    "test_project_subject_categories= labelEncoder.transform(x_test[\"project_subject_categories\"])"
   ]
  },
  {
   "cell_type": "code",
   "execution_count": 48,
   "metadata": {},
   "outputs": [
    {
     "data": {
      "text/plain": [
       "51"
      ]
     },
     "execution_count": 48,
     "metadata": {},
     "output_type": "execute_result"
    }
   ],
   "source": [
    "x_train[\"project_subject_categories\"].nunique()"
   ]
  },
  {
   "cell_type": "code",
   "execution_count": 49,
   "metadata": {},
   "outputs": [
    {
     "data": {
      "text/plain": [
       "array([24, 24, 32, ..., 32, 28,  2])"
      ]
     },
     "execution_count": 49,
     "metadata": {},
     "output_type": "execute_result"
    }
   ],
   "source": [
    "train_project_subject_categories"
   ]
  },
  {
   "cell_type": "code",
   "execution_count": 50,
   "metadata": {},
   "outputs": [],
   "source": [
    "labelEncoder.fit(x_train[\"project_subject_subcategories\"])\n",
    "\n",
    "#labelEncoder.fit(x_train[\"project_subject_categories\"])\n",
    "\n",
    "x_test[\"project_subject_subcategories\"] = x_test[\"project_subject_subcategories\"]\\\n",
    "                            .map(lambda cls: '<absent>' if cls not in labelEncoder.classes_ else cls)\n",
    "labelEncoder.classes_ = np.append(labelEncoder.classes_, '<absent>')\n",
    "train_project_subject_subcategories= labelEncoder.transform(x_train[\"project_subject_subcategories\"])\n",
    "test_project_subject_subcategories= labelEncoder.transform(x_test[\"project_subject_subcategories\"])"
   ]
  },
  {
   "cell_type": "code",
   "execution_count": 51,
   "metadata": {},
   "outputs": [
    {
     "data": {
      "text/plain": [
       "392"
      ]
     },
     "execution_count": 51,
     "metadata": {},
     "output_type": "execute_result"
    }
   ],
   "source": [
    "x_train[\"project_subject_subcategories\"].nunique()"
   ]
  },
  {
   "cell_type": "code",
   "execution_count": 52,
   "metadata": {},
   "outputs": [
    {
     "data": {
      "text/plain": [
       "array([308, 321, 333, ...,  18, 310,  52])"
      ]
     },
     "execution_count": 52,
     "metadata": {},
     "output_type": "execute_result"
    }
   ],
   "source": [
    "train_project_subject_subcategories"
   ]
  },
  {
   "cell_type": "markdown",
   "metadata": {},
   "source": [
    "## 1.3 Numerical feature Vectorization"
   ]
  },
  {
   "cell_type": "code",
   "execution_count": 53,
   "metadata": {},
   "outputs": [],
   "source": [
    "# you have to standardise the numerical columns\n",
    "# stack both the numerical features\n",
    "#after numerical feature vectorization you will have numerical_data_train and numerical_data_test\n"
   ]
  },
  {
   "cell_type": "code",
   "execution_count": 54,
   "metadata": {},
   "outputs": [],
   "source": [
    "def reshape_df(df):\n",
    "    return df.values.reshape(-1,1)"
   ]
  },
  {
   "cell_type": "code",
   "execution_count": 55,
   "metadata": {},
   "outputs": [],
   "source": [
    "#reshaping numerical df so as to make them available for StandarScalar()\n",
    "train_teacher_number_of_previously_posted_projects=reshape_df(x_train['teacher_number_of_previously_posted_projects'])\n",
    "test_teacher_number_of_previously_posted_projects=reshape_df(x_test['teacher_number_of_previously_posted_projects'])\n",
    "\n",
    "train_price=reshape_df(x_train['price'])\n",
    "test_price=reshape_df(x_test['price'])\n",
    "\n",
    "train_quantity=reshape_df(x_train['quantity'])\n",
    "test_quantity=reshape_df(x_test['quantity'])\n",
    "\n",
    "train_is_digit_project_resource_summary=reshape_df(x_train['is_digit_project_resource_summary'])\n",
    "test_is_digit_project_resource_summary=reshape_df(x_test['is_digit_project_resource_summary'])"
   ]
  },
  {
   "cell_type": "code",
   "execution_count": 56,
   "metadata": {},
   "outputs": [],
   "source": [
    "train_numeric_data=np.concatenate((train_teacher_number_of_previously_posted_projects,train_price,\\\n",
    "                                  train_quantity,train_is_digit_project_resource_summary), axis=1)\n",
    "test_numeric_data=np.concatenate((test_teacher_number_of_previously_posted_projects,test_price,\\\n",
    "                                 test_quantity,test_is_digit_project_resource_summary), axis=1)"
   ]
  },
  {
   "cell_type": "code",
   "execution_count": 57,
   "metadata": {},
   "outputs": [
    {
     "data": {
      "text/plain": [
       "(76473, 4)"
      ]
     },
     "execution_count": 57,
     "metadata": {},
     "output_type": "execute_result"
    }
   ],
   "source": [
    "train_numeric_data.shape"
   ]
  },
  {
   "cell_type": "code",
   "execution_count": 58,
   "metadata": {},
   "outputs": [],
   "source": [
    "train_stdScalar=StandardScaler()\n",
    "test_stdScalar=StandardScaler()\n",
    "\n",
    "numerical_data_train=train_stdScalar.fit_transform(train_numeric_data)\n",
    "numerical_data_test=train_stdScalar.transform(test_numeric_data)"
   ]
  },
  {
   "cell_type": "code",
   "execution_count": 59,
   "metadata": {},
   "outputs": [
    {
     "data": {
      "text/plain": [
       "(76473, 4)"
      ]
     },
     "execution_count": 59,
     "metadata": {},
     "output_type": "execute_result"
    }
   ],
   "source": [
    "numerical_data_train.shape"
   ]
  },
  {
   "cell_type": "code",
   "execution_count": 60,
   "metadata": {},
   "outputs": [
    {
     "data": {
      "text/plain": [
       "array([[-0.36479254, -0.80889284,  0.30528148, -0.41067111],\n",
       "       [-0.36479254, -0.61354187,  0.11504245, -0.41067111],\n",
       "       [-0.32895815, -0.02167607, -0.49372241, -0.41067111],\n",
       "       ...,\n",
       "       [ 0.02938566, -0.50105871, -0.26543559,  2.43503857],\n",
       "       [ 2.68112992, -0.38171582, -0.41762681, -0.41067111],\n",
       "       [-0.40062692, -0.60472614,  3.04472338, -0.41067111]])"
      ]
     },
     "execution_count": 60,
     "metadata": {},
     "output_type": "execute_result"
    }
   ],
   "source": [
    "numerical_data_train"
   ]
  },
  {
   "cell_type": "code",
   "execution_count": null,
   "metadata": {},
   "outputs": [],
   "source": []
  },
  {
   "cell_type": "code",
   "execution_count": null,
   "metadata": {},
   "outputs": [],
   "source": []
  },
  {
   "cell_type": "code",
   "execution_count": null,
   "metadata": {},
   "outputs": [],
   "source": []
  },
  {
   "cell_type": "markdown",
   "metadata": {},
   "source": [
    "## 1.4 Defining the model"
   ]
  },
  {
   "cell_type": "markdown",
   "metadata": {},
   "source": [
    "<img src='https://i.imgur.com/w395Yk9.png'>"
   ]
  },
  {
   "cell_type": "code",
   "execution_count": 61,
   "metadata": {},
   "outputs": [],
   "source": [
    "# as of now we have vectorized all our features now we will define our model.\n",
    "# as it is clear from above image that the given model has multiple input layers and hence we have to use functional API\n",
    "# Please go through - https://keras.io/guides/functional_api/\n",
    "# it is a good programming practise to define your complete model i.e all inputs , intermediate and output layers at one place.\n",
    "# while defining your model make sure that you use variable names while defining any length,dimension or size.\n",
    "#for ex.- you should write the code as 'input_text = Input(shape=(pad_length,))' and not as 'input_text = Input(shape=(300,))'\n",
    "# the embedding layer for text data should be non trainable\n",
    "# the embedding layer for categorical data should be trainable\n",
    "# https://stats.stackexchange.com/questions/270546/how-does-keras-embedding-layer-work\n",
    "# https://towardsdatascience.com/deep-embeddings-for-categorical-variables-cat2vec-b05c8ab63ac0\n",
    "#print model.summary() after you have defined the model\n",
    "#plot the model using utils.plot_model module and make sure that it is similar to the above image"
   ]
  },
  {
   "cell_type": "code",
   "execution_count": 62,
   "metadata": {},
   "outputs": [],
   "source": [
    "#https://medium.com/@davidheffernan_99410/an-introduction-to-using-categorical-embeddings-ee686ed7e7f9\n",
    "v = [\"teacher_prefix\",\"school_state\",\"project_grade_category\",\"project_subject_categories\",\"project_subject_subcategories\"]\n",
    "sizes = {}\n",
    "embedSizes = {}\n",
    "for i in v:\n",
    "    sizes[i] = x_train[i].nunique()\n",
    "    embedSizes[i] = min(50, sizes[i]//2+1) "
   ]
  },
  {
   "cell_type": "code",
   "execution_count": 63,
   "metadata": {},
   "outputs": [],
   "source": [
    "#https://machinelearningmastery.com/use-word-embedding-layers-deep-learning-keras/\n",
    "# choosing embed size for categorical values- (total dimension//2)+1\n",
    "#https://towardsdatascience.com/deep-learning-personal-notes-part-1-lesson-4-structured-learning-natural-language-processing-26188d744ece#:~:text=The%20rule%20of%20thumb%20for,but%20no%20bigger%20than%2050.\n",
    "\n",
    "input_ = Input(shape=(200,), name=\"input_text\")\n",
    "e=Embedding(input_dim=len(word_index)+1,output_dim=300, weights=[embed_matrix],input_length=200,\\\n",
    "            trainable=False)(input_)\n",
    "e=LSTM(128, dropout=0.2, return_sequences=True, kernel_regularizer=regularizers.l2(0.0001))(e)\n",
    "flatten = Flatten()(e)\n",
    "\n",
    "input_dim=len(x_train)+1\n",
    "input1 = Input(shape=(1,))\n",
    "e1 = Embedding(input_dim=input_dim, output_dim=embedSizes['teacher_prefix'])(input1)\n",
    "flatten_1 = Flatten()(e1)\n",
    "\n",
    "input2 = Input(shape=(1,))\n",
    "e2 = Embedding(input_dim=input_dim, output_dim=embedSizes['school_state'])(input2)\n",
    "flatten_2 = Flatten()(e2)\n",
    "\n",
    "\n",
    "input3 = Input(shape=(1,))\n",
    "e3 = Embedding(input_dim=input_dim, output_dim=embedSizes['project_grade_category'])(input3)\n",
    "flatten_3 = Flatten()(e3)\n",
    "\n",
    "input4 = Input(shape=(1,))\n",
    "e4 = Embedding(input_dim=input_dim, output_dim=embedSizes['project_subject_categories'])(input4)\n",
    "flatten_4 = Flatten()(e4)\n",
    "\n",
    "\n",
    "input5 = Input(shape=(1,))\n",
    "e5 = Embedding(input_dim=input_dim, output_dim=embedSizes['project_subject_subcategories'])(input5)\n",
    "flatten_5 = Flatten()(e5)\n",
    "\n",
    "#numerical_data_train\n",
    "input6 = Input(shape=(4,))\n",
    "\n",
    "e6 = Dense(32,kernel_initializer=he_normal(),kernel_regularizer=regularizers.l2(0.0001))(input6)\n",
    "dense_for_rem_input = LeakyReLU()(e6)\n",
    "\n",
    "final_input=concatenate([flatten, flatten_1, flatten_2, flatten_3, flatten_4, flatten_5, dense_for_rem_input])\n",
    "\n",
    "\n",
    "x = Dense(256,activation='LeakyReLU',kernel_initializer='he_normal',kernel_regularizer=regularizers.l2(0.0001))(final_input)\n",
    "x = Dropout(0.2)(x)\n",
    "x = Dense(128,activation='LeakyReLU',kernel_initializer='he_normal',kernel_regularizer=regularizers.l2(0.0001))(x)\n",
    "x = Dropout(0.3)(x)\n",
    "x = BatchNormalization()(x)\n",
    "x = Dense(48,activation='LeakyReLU',kernel_initializer='he_normal',kernel_regularizer=regularizers.l2(0.0001))(x)\n",
    "x = Dropout(0.2)(x)\n",
    "x = Dense(16,activation='LeakyReLU',kernel_initializer='he_normal',kernel_regularizer=regularizers.l2(0.0001))(x)\n",
    "\n",
    "output = Dense(2, activation = 'softmax')(x)\n",
    "\n",
    "model1=Model(inputs=[input_, input1, input2, input3, input4, input5, input6], \\\n",
    "             outputs=[output],name='model1' )\n"
   ]
  },
  {
   "cell_type": "code",
   "execution_count": 64,
   "metadata": {},
   "outputs": [
    {
     "data": {
      "image/png": "[encoded data removed]",
      "text/plain": [
       "<IPython.core.display.Image object>"
      ]
     },
     "execution_count": 64,
     "metadata": {},
     "output_type": "execute_result"
    }
   ],
   "source": [
    "#https://machinelearningmastery.com/visualize-deep-learning-neural-network-model-keras/\n",
    "from keras.utils.vis_utils import plot_model\n",
    "plot_model(model1, to_file='model1.png', show_shapes=True, show_layer_names=True)"
   ]
  },
  {
   "cell_type": "markdown",
   "metadata": {},
   "source": [
    "## 1.5 Compiling and fititng your model"
   ]
  },
  {
   "cell_type": "code",
   "execution_count": 65,
   "metadata": {},
   "outputs": [],
   "source": [
    "#https://stackoverflow.com/questions/41032551/how-to-compute-receiving-operating-characteristic-roc-and-auc-in-keras\n",
    "#https://stackoverflow.com/questions/57574501/how-to-use-sklearn-auc-in-tensorflow-keras-model-metrics\n",
    "\n",
    "from sklearn.metrics import roc_auc_score\n",
    "\n",
    "def aucroc(y_true, y_pred):\n",
    "    if len(np.unique(y_true[:,1])) == 1:\n",
    "        return 0.5\n",
    "    else:\n",
    "        return roc_auc_score(y_true, y_pred)\n",
    "\n",
    "def custom_auc_roc(y_true, y_pred):\n",
    "    return tf.py_function(aucroc, (y_true, y_pred), tf.double)"
   ]
  },
  {
   "cell_type": "code",
   "execution_count": 66,
   "metadata": {},
   "outputs": [],
   "source": [
    "log_dir=\"tensor_logs\" + datetime.datetime.now().strftime(\"%Y%m%d-%H%M%S\")\n",
    "checkpoint_model1 = ModelCheckpoint(\"model1.h5\", monitor='val_auc', verbose=2, save_best_only=True, mode='max')\n",
    "earlystopping_model1 = EarlyStopping(monitor='val_loss', patience=2, verbose=1)\n",
    "tensorboard_model1 = TensorBoard(log_dir=log_dir)\n",
    "reduce_lr_model1 = ReduceLROnPlateau(monitor ='val_loss', verbose=1)\n",
    "callbacks_model1 = [checkpoint_model1, tensorboard_model1, earlystopping_model1, reduce_lr_model1]"
   ]
  },
  {
   "cell_type": "code",
   "execution_count": 67,
   "metadata": {},
   "outputs": [],
   "source": [
    "#define custom auc as metric , do not use tf.keras.metrics\n",
    "# https://stackoverflow.com/a/46844409 - custom AUC reference 1\n",
    "# https://www.kaggle.com/c/santander-customer-transaction-prediction/discussion/80807  - custom AUC reference 2\n",
    "# compile and fit your model\n",
    "model1.run_eagerly = True\n",
    "model1.compile(loss='categorical_crossentropy', optimizer=tf.keras.optimizers.Adam(learning_rate=0.001),\\\n",
    "               metrics=[custom_auc_roc])"
   ]
  },
  {
   "cell_type": "code",
   "execution_count": 68,
   "metadata": {},
   "outputs": [],
   "source": [
    "from keras.utils import np_utils\n",
    "from scipy.sparse import hstack\n",
    "y_train = np_utils.to_categorical(y_train, 2) \n",
    "y_test = np_utils.to_categorical(y_test, 2)\n",
    "\n",
    "train_model1=[train_padded_docs, train_teacher_prefix, train_school_state,\\\n",
    "              train_project_grade_category,train_project_subject_categories,\\\n",
    "              train_project_subject_subcategories, numerical_data_train]\n",
    "test_model1=[test_padded_docs, test_teacher_prefix, test_school_state,\\\n",
    "             test_project_grade_category,test_project_subject_categories,\\\n",
    "             test_project_subject_subcategories, numerical_data_test]"
   ]
  },
  {
   "cell_type": "code",
   "execution_count": 69,
   "metadata": {},
   "outputs": [
    {
     "name": "stdout",
     "output_type": "stream",
     "text": [
      "Epoch 1/20\n",
      "150/150 [==============================] - 467s 3s/step - loss: 0.6623 - custom_auc_roc: 0.5705 - val_loss: 0.5266 - val_custom_auc_roc: 0.7061\n",
      "WARNING:tensorflow:Can save best model only with val_auc available, skipping.\n",
      "Epoch 2/20\n",
      "150/150 [==============================] - 498s 3s/step - loss: 0.5163 - custom_auc_roc: 0.6820 - val_loss: 0.5198 - val_custom_auc_roc: 0.7355\n",
      "WARNING:tensorflow:Can save best model only with val_auc available, skipping.\n",
      "Epoch 3/20\n",
      "150/150 [==============================] - 504s 3s/step - loss: 0.4790 - custom_auc_roc: 0.7246 - val_loss: 0.5153 - val_custom_auc_roc: 0.7465\n",
      "WARNING:tensorflow:Can save best model only with val_auc available, skipping.\n",
      "Epoch 4/20\n",
      "150/150 [==============================] - 512s 3s/step - loss: 0.4572 - custom_auc_roc: 0.7456 - val_loss: 0.4483 - val_custom_auc_roc: 0.7551\n",
      "WARNING:tensorflow:Can save best model only with val_auc available, skipping.\n",
      "Epoch 5/20\n",
      "150/150 [==============================] - 504s 3s/step - loss: 0.4448 - custom_auc_roc: 0.7622 - val_loss: 0.4465 - val_custom_auc_roc: 0.7558\n",
      "WARNING:tensorflow:Can save best model only with val_auc available, skipping.\n",
      "Epoch 6/20\n",
      "150/150 [==============================] - 495s 3s/step - loss: 0.4370 - custom_auc_roc: 0.7771 - val_loss: 0.4531 - val_custom_auc_roc: 0.7538\n",
      "WARNING:tensorflow:Can save best model only with val_auc available, skipping.\n",
      "Epoch 7/20\n",
      "150/150 [==============================] - 485s 3s/step - loss: 0.4307 - custom_auc_roc: 0.7916 - val_loss: 0.4585 - val_custom_auc_roc: 0.7552\n",
      "WARNING:tensorflow:Can save best model only with val_auc available, skipping.\n",
      "Epoch 00007: early stopping\n"
     ]
    }
   ],
   "source": [
    "history1 = model1.fit(train_model1, y_train,batch_size=512,\n",
    "                        epochs=20,validation_data=(test_model1, y_test),callbacks=callbacks_model1,\\\n",
    "                      verbose=1)"
   ]
  },
  {
   "cell_type": "code",
   "execution_count": 74,
   "metadata": {},
   "outputs": [
    {
     "data": {
      "text/html": [
       "\n",
       "      <iframe id=\"tensorboard-frame-b878839b4fc87ad9\" width=\"100%\" height=\"800\" frameborder=\"0\">\n",
       "      </iframe>\n",
       "      <script>\n",
       "        (function() {\n",
       "          const frame = document.getElementById(\"tensorboard-frame-b878839b4fc87ad9\");\n",
       "          const url = new URL(\"/\", window.location);\n",
       "          const port = 6006;\n",
       "          if (port) {\n",
       "            url.port = port;\n",
       "          }\n",
       "          frame.src = url;\n",
       "        })();\n",
       "      </script>\n",
       "    "
      ],
      "text/plain": [
       "<IPython.core.display.HTML object>"
      ]
     },
     "metadata": {},
     "output_type": "display_data"
    }
   ],
   "source": [
    "%tensorboard --logdir tensor_logs"
   ]
  },
  {
   "cell_type": "markdown",
   "metadata": {},
   "source": [
    "# <font color='red'> Model-2 </font>"
   ]
  },
  {
   "cell_type": "markdown",
   "metadata": {},
   "source": [
    "Use the same model as above but for 'input_seq_total_text_data' give only some words in the sentance not all the words. Filter the words as below. "
   ]
  },
  {
   "cell_type": "markdown",
   "metadata": {},
   "source": [
    "<pre>\n",
    "1. Fit TF-IDF vectorizer on the Train data <br>\n",
    "2. Get the idf value for each word we have in the train data. Please go through <a  href='https://stackoverflow.com/questions/23792781/tf-idf-feature-weights-using-sklearn-feature-extraction-text-tfidfvectorizer'>this</a><br>\n",
    "\n",
    "3. Do some analysis on the Idf values and based on those values choose the low and high threshold value. Because very \n",
    "frequent words and very very rare words don't give much information.\n",
    "Hint - A preferable IDF range is 2-11 for model 2. <br>\n",
    "4.Remove the low idf value and high idf value words from the train and test data. You can go through each of the\n",
    "sentence of train and test data and include only those features(words) which are present in the defined IDF range.\n",
    "5. Perform tokenization on the modified text data same as you have done for previous model.\n",
    "6. Create embedding matrix for model 2 and then use the rest of the features similar to previous model.\n",
    "7. Define the model, compile and fit the model.\n",
    "</pre>"
   ]
  },
  {
   "cell_type": "code",
   "execution_count": null,
   "metadata": {},
   "outputs": [],
   "source": []
  },
  {
   "cell_type": "code",
   "execution_count": null,
   "metadata": {},
   "outputs": [],
   "source": []
  },
  {
   "cell_type": "code",
   "execution_count": null,
   "metadata": {},
   "outputs": [],
   "source": []
  },
  {
   "cell_type": "markdown",
   "metadata": {},
   "source": [
    "# <font color='red'> Model-3 </font>"
   ]
  },
  {
   "cell_type": "markdown",
   "metadata": {},
   "source": [
    "<img src='https://i.imgur.com/fkQ8nGo.png'>\n",
    "ref: https://i.imgur.com/fkQ8nGo.png"
   ]
  },
  {
   "cell_type": "code",
   "execution_count": null,
   "metadata": {},
   "outputs": [],
   "source": [
    "#in this model you can use the text vectorized data from model1 \n",
    "#for other than text data consider the following steps\n",
    "# you have to perform one hot encoding of categorical features. You can use onehotencoder() or countvectorizer() for the same.\n",
    "# Stack up standardised numerical features and all the one hot encoded categorical features\n",
    "#the input to conv1d layer is 3d, you can convert your 2d data to 3d using np.newaxis\n",
    "# Note - deep learning models won't work with sparse features, you have to convert them to dense features before fitting in the model."
   ]
  },
  {
   "cell_type": "code",
   "execution_count": null,
   "metadata": {},
   "outputs": [],
   "source": []
  },
  {
   "cell_type": "code",
   "execution_count": null,
   "metadata": {},
   "outputs": [],
   "source": []
  }
 ],
 "metadata": {
  "kernelspec": {
   "display_name": "Python 3 (ipykernel)",
   "language": "python",
   "name": "python3"
  },
  "language_info": {
   "codemirror_mode": {
    "name": "ipython",
    "version": 3
   },
   "file_extension": ".py",
   "mimetype": "text/x-python",
   "name": "python",
   "nbconvert_exporter": "python",
   "pygments_lexer": "ipython3",
   "version": "3.8.12"
  }
 },
 "nbformat": 4,
 "nbformat_minor": 2
}
